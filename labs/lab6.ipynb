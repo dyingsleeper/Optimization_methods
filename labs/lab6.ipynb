{
  "nbformat": 4,
  "nbformat_minor": 0,
  "metadata": {
    "colab": {
      "provenance": []
    },
    "kernelspec": {
      "name": "python3",
      "display_name": "Python 3"
    },
    "language_info": {
      "name": "python"
    }
  },
  "cells": [
    {
      "cell_type": "markdown",
      "source": [
        "# <center>Лабораторная работа 6.</center>\n",
        "## <center>Задача о рюкзаке</center>\n",
        "\n",
        "*Автор материала: к.т.н., доцент кафедры Фундаметальной информатики и оптимального управления ВолГУ Михаил Алексеевич Харитонов*\n",
        "\n",
        "**Цель работы:** приобретение практических навыков решения задач дикретной оптимизации c использованием языка Python в Jupyter Notebook.\n",
        "\n",
        "**Задание:** Заполните ответ в клетках (где написано \"Ваш код здесь\" или \"Ваш ответ здесь\"), ответьте на вопросы."
      ],
      "metadata": {
        "id": "ChfCPGo0GN1c"
      }
    },
    {
      "cell_type": "markdown",
      "source": [
        "# Часть 1 Python"
      ],
      "metadata": {
        "id": "fHe8_q1aGZVv"
      }
    },
    {
      "cell_type": "markdown",
      "source": [
        "Задача о рюкзаке имеет вид\n",
        "\n",
        "$(v,x) \\to \\max, \\quad (w,x)\\leq C, \\quad x_i \\in \\{0,1\\}, \\quad i =1, \\quad \\ldots, N,$\n",
        "\n",
        "где $(v,x)$ скалярное произведение векторов $w$ и $x$,\n",
        "\n",
        "$v$ --- вектор ценностей предметов,\n",
        "\n",
        "$x = (x_1, x_2, \\ldots, x_N), x_i \\in \\{0,1\\}$ --- решение задачи,\n",
        "\n",
        "$w$ --- вектор весов предметов,\n",
        "\n",
        "$C$ вместимость рюкзака."
      ],
      "metadata": {
        "id": "jUifrf4lHled"
      }
    },
    {
      "cell_type": "markdown",
      "source": [
        "### Описание входных данных.\n"
      ],
      "metadata": {
        "id": "NxN2TYMYJeEx"
      }
    },
    {
      "cell_type": "markdown",
      "source": [
        "Файл с входными данными содержит $N+1$ строку и имеет следующую структуру.\n",
        "\n",
        "$N$ $C$\n",
        "\n",
        "$v_1 \\quad w_1$\n",
        "\n",
        "$v_2 \\quad w_2$\n",
        "\n",
        "$\\ldots \\quad \\ldots$\n",
        "\n",
        "$v_N \\quad w_N$\n",
        "\n",
        "\n"
      ],
      "metadata": {
        "id": "zQNdXRtFJjjI"
      }
    },
    {
      "cell_type": "markdown",
      "source": [
        "### Задание 1"
      ],
      "metadata": {
        "id": "w6deAemjGcbo"
      }
    },
    {
      "cell_type": "markdown",
      "source": [
        "Реализовать метод для считывание данных задачи из файла.\n",
        "\n",
        "\n",
        "\n",
        "\n",
        "\n",
        "\n"
      ],
      "metadata": {
        "id": "ShYXKDmCGn9v"
      }
    },
    {
      "cell_type": "code",
      "source": [
        "#\"Ваш код здесь\""
      ],
      "metadata": {
        "id": "KShEkxmcJ41w"
      },
      "execution_count": null,
      "outputs": []
    },
    {
      "cell_type": "markdown",
      "source": [
        "### Задание 2"
      ],
      "metadata": {
        "id": "24ja8JgPKGrE"
      }
    },
    {
      "cell_type": "markdown",
      "source": [
        "Написать метод в котором реализован жадный алгоритм для решения задачи о рюкзаке\n",
        "\n"
      ],
      "metadata": {
        "id": "exjSnjGrKJoM"
      }
    },
    {
      "cell_type": "code",
      "source": [
        "#\"Ваш код здесь\""
      ],
      "metadata": {
        "id": "klEQ2Ns3KoPQ"
      },
      "execution_count": null,
      "outputs": []
    },
    {
      "cell_type": "markdown",
      "source": [
        "### Задание 3"
      ],
      "metadata": {
        "id": "_qU-c9LuKu5o"
      }
    },
    {
      "cell_type": "markdown",
      "source": [
        "Написать метод в котором реализован алгоритм динамического программирования для решения задачи о рюкзаке"
      ],
      "metadata": {
        "id": "MT8n4FJwK5ZQ"
      }
    },
    {
      "cell_type": "code",
      "source": [
        "#\"Ваш код здесь\""
      ],
      "metadata": {
        "id": "6-UQ1h58LB94"
      },
      "execution_count": null,
      "outputs": []
    },
    {
      "cell_type": "markdown",
      "source": [
        "### Задание 4"
      ],
      "metadata": {
        "id": "NvGQ-sj-LFxI"
      }
    },
    {
      "cell_type": "markdown",
      "source": [
        "Реализовать метод в котором задача о рюкзаке решается с помощью солвера"
      ],
      "metadata": {
        "id": "YfG-BVroLMNK"
      }
    },
    {
      "cell_type": "code",
      "source": [
        "#\"Ваш код здесь\""
      ],
      "metadata": {
        "id": "l0aU9CVALInI"
      },
      "execution_count": null,
      "outputs": []
    },
    {
      "cell_type": "markdown",
      "source": [
        "### Задание 5"
      ],
      "metadata": {
        "id": "RhQXS4dpLfx0"
      }
    },
    {
      "cell_type": "markdown",
      "source": [
        "Реализовать метод в котором решается релаксированная задача о рюкзаке с помощью солвера"
      ],
      "metadata": {
        "id": "pkGNQOE-NtUY"
      }
    },
    {
      "cell_type": "code",
      "source": [
        "#\"Ваш код здесь\""
      ],
      "metadata": {
        "id": "8kz9_2ljN64A"
      },
      "execution_count": null,
      "outputs": []
    },
    {
      "cell_type": "markdown",
      "source": [
        "### Задание 6"
      ],
      "metadata": {
        "id": "hFyDUM_yN_iI"
      }
    },
    {
      "cell_type": "markdown",
      "source": [
        "1) Провести сравнение результатов решения задач для всех разработанных методов\n",
        "\n",
        "2) Сравнить решения с решением релаксированной задачи"
      ],
      "metadata": {
        "id": "C3khthygLkl0"
      }
    },
    {
      "cell_type": "code",
      "source": [
        "#\"Ваш код здесь\""
      ],
      "metadata": {
        "id": "JKyJpIzdLkKB"
      },
      "execution_count": null,
      "outputs": []
    },
    {
      "cell_type": "markdown",
      "source": [
        "# Часть 2 Решение задач"
      ],
      "metadata": {
        "id": "T6e70MHNL5e8"
      }
    },
    {
      "cell_type": "markdown",
      "source": [
        "\n",
        "\n",
        "1.  Решить задачу о рюкзаке ($N = 4$, $C = 11$, $v = [8, 10, 15, 4] $, $w = [4, 5, 8, 3]$)\n",
        "\n",
        "*   Перебором всех вариантов\n",
        "*   Жадным методом\n",
        "*   Методом динамического программирования\n",
        "*   Методом ветвей и границ\n",
        "\n",
        "2.  Решить задачу о рюкзаке ($N = 5$, $C = 10$, $v = [8, 10, 15, 4, 3] $, $w = [4, 5, 8, 3, 1]$)\n",
        "\n",
        "*   Жадным методом\n",
        "*   Методом динамического программирования\n",
        "*   Методом ветвей и границ\n",
        "\n",
        "3.  Решить задачу о рюкзаке ($N = 6$, $C = 15$, $v = [8, 10, 15, 4, 3, 7] $, $w = [4, 5, 8, 3, 1, 3]$)\n",
        "\n",
        "*   Жадным методом\n",
        "*   Методом динамического программирования\n",
        "*   Методом ветвей и границ\n",
        "\n",
        "\n",
        "\n",
        "\n",
        "\n"
      ],
      "metadata": {
        "id": "3_0rxleAL6pE"
      }
    }
  ]
}
