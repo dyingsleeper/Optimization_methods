{
  "nbformat": 4,
  "nbformat_minor": 0,
  "metadata": {
    "colab": {
      "provenance": []
    },
    "kernelspec": {
      "name": "python3",
      "display_name": "Python 3"
    },
    "language_info": {
      "name": "python"
    }
  },
  "cells": [
    {
      "cell_type": "markdown",
      "metadata": {
        "id": "JJIYYz8BoS07"
      },
      "source": [
        "# <center>Лабораторная работа 7.</center>\n",
        "## <center>Модели квадратичного программирования</center>\n",
        "\n",
        "*Автор материала: к.т.н., доцент кафедры Фундаметальной информатики и оптимального управления ВолГУ Михаил Алексеевич Харитонов*\n",
        "\n",
        "**Цель работы:** Приобретение практических навыков реализации методов решения задач квадратичного программирования на языке Python с использованием Jupyter Notebook и пакетов для решения задач квадратичного программирования.\n",
        "\n",
        "**Задание:** Заполните ответ в клетках (где написано \"Ваш код здесь\" или \"Ваш ответ здесь\"), ответьте на вопросы.\n",
        "\n"
      ]
    },
    {
      "cell_type": "markdown",
      "metadata": {
        "id": "veDsKNHFKUMv"
      },
      "source": [
        "\n",
        "\n",
        "\n"
      ]
    },
    {
      "cell_type": "markdown",
      "source": [
        "# Часть 1 Python"
      ],
      "metadata": {
        "id": "fDfDRGZ7_zd-"
      }
    },
    {
      "cell_type": "markdown",
      "source": [
        "Задача квадратичного программирования представлят собой оптимизационную задачу с квадратичной целевой функцией и линейными ограничениями. Математическая постановка задачи имеет вид:\n",
        "$$  \n",
        "    \\begin{array}{ll}\n",
        "    (1/2)\\,x^TPx + q^Tx \\to \\max\\limits_{D}\\\\\n",
        "    D= \\{ x \\in {R}^{n} \\, | \\,Gx \\leq h, Ax = b\\}\n",
        "    \\end{array}\n",
        "$$\n",
        "Где $P \\in {S}^{n}_+$, $q \\in {R}^n$, $G \\in {R}^{m \\times n}$, $h \\in {R}^m$, $A \\in {R}^{p \\times n}$, и $b \\in {R}^p$ данные задачи, а $x \\in {R}^{n}$ решающие переменные.\n"
      ],
      "metadata": {
        "id": "2yoLBGTLVEfP"
      }
    },
    {
      "cell_type": "markdown",
      "source": [
        "##cvxpy"
      ],
      "metadata": {
        "id": "hl2NZuTIViaD"
      }
    },
    {
      "cell_type": "markdown",
      "source": [
        "### Пример"
      ],
      "metadata": {
        "id": "bTio8eoeLVBH"
      }
    },
    {
      "cell_type": "code",
      "source": [
        "# Import packages.\n",
        "import cvxpy as cp\n",
        "import numpy as np\n",
        "\n",
        "# Generate a random non-trivial quadratic program.\n",
        "m = 15\n",
        "n = 10\n",
        "p = 5\n",
        "np.random.seed(1)\n",
        "P = np.random.randn(n, n)\n",
        "P = P.T@P\n",
        "q = np.random.randn(n)\n",
        "G = np.random.randn(m, n)\n",
        "h = G@np.random.randn(n)\n",
        "A = np.random.randn(p, n)\n",
        "b = np.random.randn(p)\n",
        "\n",
        "# Define and solve the CVXPY problem.\n",
        "x = cp.Variable(n)\n",
        "prob = cp.Problem(cp.Minimize((1/2)*cp.quad_form(x, P) + q.T@x),\n",
        "                 [G@x <= h,\n",
        "                  A@x == b])\n",
        "prob.solve()\n",
        "\n",
        "# Print result.\n",
        "print(\"\\nThe optimal value is\", prob.value)\n",
        "print(\"A solution x is\")\n",
        "print(x.value)\n",
        "print(\"A dual solution corresponding to the inequality constraints is\")\n",
        "print(prob.constraints[0].dual_value)"
      ],
      "metadata": {
        "colab": {
          "base_uri": "https://localhost:8080/"
        },
        "id": "oylreqqDVRYP",
        "outputId": "a135a2fc-2391-40cd-c228-55f8e156ca9d"
      },
      "execution_count": 4,
      "outputs": [
        {
          "output_type": "stream",
          "name": "stdout",
          "text": [
            "\n",
            "The optimal value is 86.89141585569915\n",
            "A solution x is\n",
            "[-1.68244521  0.29769913 -2.38772183 -2.79986015  1.18270433 -0.20911897\n",
            " -4.50993526  3.76683701 -0.45770675 -3.78589638]\n",
            "A dual solution corresponding to the inequality constraints is\n",
            "[ 0.          0.          0.          0.          0.         10.45538054\n",
            "  0.          0.          0.         39.67365045  0.          0.\n",
            "  0.         20.79927156  6.54115873]\n"
          ]
        }
      ]
    },
    {
      "cell_type": "markdown",
      "source": [
        "###Задание 1.1"
      ],
      "metadata": {
        "id": "x_80onG0WUNA"
      }
    },
    {
      "cell_type": "markdown",
      "source": [
        "С использованием солвера cvxpy найти решение задачи квадратичного программирования или обосновать ее неразрешимость\n",
        "\n",
        "$f(x) = 4\\sum\\limits_{i=1}^{100} x_i^2 -8\\sum\\limits_{i=1}^{100} \\sum\\limits_{j=1}^{100} x_ix_j \\to \\max\\limits_D$,\n",
        "$D = \\{ (x_1, x_2, \\ldots, x_{100}) \\in R^{100} \\, | \\, \\sum\\limits_{i=1}^{100}x_i = 10^6, \\sum\\limits_{i=1}^{50}x_{2i}= 10^4 x_i\\ge 0, i=1,\\ldots, 100\\}$"
      ],
      "metadata": {
        "id": "k0gb-8rpWY_o"
      }
    },
    {
      "cell_type": "code",
      "source": [
        "# Ваш код здесь"
      ],
      "metadata": {
        "id": "sQC1Orvye0iB"
      },
      "execution_count": 5,
      "outputs": []
    },
    {
      "cell_type": "markdown",
      "source": [
        "##cvxopt"
      ],
      "metadata": {
        "id": "GeYDvoEHWvmX"
      }
    },
    {
      "cell_type": "markdown",
      "source": [
        "###Пример"
      ],
      "metadata": {
        "id": "_2c4VEcmXWtE"
      }
    },
    {
      "cell_type": "markdown",
      "source": [
        "$f(x) = 2x^2_1+x_2^2+x_1x_2+x_1+x_2 \\to \\max\\limits_D$,\n",
        "$D = \\{ (x_1, x_2) \\in R^2 \\, | \\, x_1+x_2 = 1, x_1\\ge 0, x_2 \\ge 0\\}$"
      ],
      "metadata": {
        "id": "A7uo2LswWyQY"
      }
    },
    {
      "cell_type": "code",
      "source": [
        "from cvxopt import matrix, solvers\n",
        "Q = 2*matrix([ [2, .5], [.5, 1] ])\n",
        "p = matrix([1.0, 1.0])\n",
        "G = matrix([[-1.0,0.0],[0.0,-1.0]])\n",
        "h = matrix([0.0,0.0])\n",
        "A = matrix([1.0, 1.0], (1,2))\n",
        "b = matrix(1.0)\n",
        "sol=solvers.qp(Q, p, G, h, A, b)"
      ],
      "metadata": {
        "colab": {
          "base_uri": "https://localhost:8080/"
        },
        "id": "4MFyLkDwW0oE",
        "outputId": "4260fef6-dd1a-4f90-ce31-d3b78ae23979"
      },
      "execution_count": 3,
      "outputs": [
        {
          "output_type": "stream",
          "name": "stdout",
          "text": [
            "     pcost       dcost       gap    pres   dres\n",
            " 0:  1.8889e+00  7.7778e-01  1e+00  2e-16  2e+00\n",
            " 1:  1.8769e+00  1.8320e+00  4e-02  1e-16  6e-02\n",
            " 2:  1.8750e+00  1.8739e+00  1e-03  2e-16  5e-04\n",
            " 3:  1.8750e+00  1.8750e+00  1e-05  1e-16  5e-06\n",
            " 4:  1.8750e+00  1.8750e+00  1e-07  3e-16  5e-08\n",
            "Optimal solution found.\n"
          ]
        }
      ]
    },
    {
      "cell_type": "markdown",
      "source": [
        "###Задание 2"
      ],
      "metadata": {
        "id": "Jqxg5c2Qal3h"
      }
    },
    {
      "cell_type": "markdown",
      "source": [
        "С использованием солвера cvxopt найти решение задачи квадратичного программирования или обосновать ее неразрешимость\n",
        "\n",
        "$f(x) = 4\\sum\\limits_{i=1}^{100} x_i^2 + 2\\sum\\limits_{i=1}^{100} \\sum\\limits_{j=1}^{100} x_ix_j \\to \\max\\limits_D$,\n",
        "$D = \\{ (x_1, x_2, \\ldots, x_{100}) \\in R^{100} \\, | \\, \\sum\\limits_{i=1}^{100}x_i = 10^6, x_i\\ge 0, i=1,\\ldots, 100\\}$"
      ],
      "metadata": {
        "id": "ro80G6W7aq2x"
      }
    },
    {
      "cell_type": "code",
      "source": [
        "# Ваш код здесь"
      ],
      "metadata": {
        "id": "5RNnUO2dc3e2"
      },
      "execution_count": null,
      "outputs": []
    },
    {
      "cell_type": "markdown",
      "source": [
        "## Поиск седловой точки функции Лагранжа"
      ],
      "metadata": {
        "id": "MGvc-Z3MXupB"
      }
    },
    {
      "cell_type": "markdown",
      "source": [
        "### Задание*"
      ],
      "metadata": {
        "id": "0E6T5wAwX1xQ"
      }
    },
    {
      "cell_type": "markdown",
      "source": [
        "Для задачи квадратичного программирования записать необходимые и достаточные условия существования седловой точки функции Лагранжа.\n",
        "\n",
        "С помощью солвера для линейного программирования найти седловую точку функции Лагранжа или установить неразрешимость задачи квадратичного программирования"
      ],
      "metadata": {
        "id": "uskfjOAiX51n"
      }
    },
    {
      "cell_type": "code",
      "source": [
        "# Ваш код здесь"
      ],
      "metadata": {
        "id": "kriq1j1_c1lO"
      },
      "execution_count": null,
      "outputs": []
    },
    {
      "cell_type": "markdown",
      "source": [
        "# Часть 2 Решение задач"
      ],
      "metadata": {
        "id": "NTUhkgIyAR1u"
      }
    },
    {
      "cell_type": "markdown",
      "source": [
        "\n",
        "1. Решить графическим методом $f(x_1,x_2) = x_2-x_1^2+6x_1 \\to\\max\\limits_{D}$,\n",
        "$D= \\{(x_1, x_2) \\in R^2 \\,|\\, 2x_1+2x_2 \\le 20, x_1+2x_2 \\le 17, 3x_1+2x_2\\le 20, x_2\\le 5, x_1 \\ge 0, x_2 \\ge 0  \\}$.\n",
        "\n",
        "2. Решить графическим методом $f(x_1,x_2) = x_2-x_1^2+6x_1 \\to\\min\\limits_{D}$,\n",
        "$D= \\{(x_1, x_2) \\in R^2 \\,|\\, 2x_1+2x_2 \\le 20, x_1+2x_2 \\le 17, 3x_1+2x_2\\le 20, x_2\\le 5, x_1 \\ge 0, x_2 \\ge 0  \\}$.\n",
        "\n",
        "\n",
        "\n",
        "2. Решить графическим методом $f(x_1,x_2) = (x_1-4)^2+(x_2-5)^2 \\to\\min\\limits_{D}$,\n",
        "$D= \\{(x_1, x_2) \\in R^2 \\,|\\, 3x_1+2x_2 \\ge 7, 10x_1-x_2 \\le 8, -18x_1+4x_2\\le 12, x_1 \\ge 0, x_2 \\ge 0  \\}$.\n",
        "\n",
        "3. Решить графическим методом $f(x_1,x_2) = (x_1-6)^2+(x_2-5)^2 \\to\\min\\limits_{D}$,\n",
        "$D= \\{(x_1, x_2) \\in R^2 \\,|\\, x_1+x_2 \\ge 10, x_1 \\ge 0, x_2 \\ge 0  \\}$.\n",
        "\n",
        "4. Решить графическим методом $f(x_1,x_2) = 3x_1+5x_2 \\to\\max\\limits_{D}$,\n",
        "$D= \\{(x_1, x_2) \\in R^2 \\,|\\, x^2_1+x^2_2 \\ge 25, x_1x_2 \\ge 4 x_1 \\ge 0, x_2 \\ge 0  \\}$.\n",
        "\n",
        "5. Для задачи $f(x_1,x_2) = (x_1-4)^2+(x_2-5)^2 \\to\\min\\limits_{D}$,\n",
        "$D= \\{(x_1, x_2) \\in R^2 \\,|\\, 3x_1+2x_2 \\ge 7, 10x_1-x_2 \\le 8, -18x_1+4x_2\\le 12, x_1 \\ge 0, x_2 \\ge 0  \\}$ записать функцию Лагранжа.\n",
        "\n",
        "\n",
        "6. Для задачи $f(x_1,x_2) = x_2-x_1^2+6x_1 \\to\\min\\limits_{D}$,\n",
        "$D= \\{(x_1, x_2) \\in R^2 \\,|\\, 2x_1+2x_2 \\le 20, x_1+2x_2 \\le 17, 3x_1+2x_2\\le 20, x_2\\le 5, x_1 \\ge 0, x_2 \\ge 0  \\}$. записать функцию Лагранжа.\n",
        "\n",
        "7. Записать необходимые и достаточные условия существования седловой точки функции Лагранжа для задачи квадратичного программирования $f(x_1,x_2) = 3x_2-x_1^2+6x_1 \\to\\min\\limits_{D}$,\n",
        "$D= \\{(x_1, x_2) \\in R^2 \\,|\\, 6x_1+5x_2 \\le 10, 3x_1+2x_2 \\le 7, 3x_1+2x_2\\le 20, x_2\\le 5, x_1 \\ge 0, x_2 \\ge 0  \\}$. записать функцию Лагранжа.\n",
        "\n",
        "8. Записать необходимые и достаточные условия существования седловой точки функции Лагранжа для задачи квадратичного программирования $f(x_1,x_2) = x_2-2x_1^2+6x_1 \\to\\min\\limits_{D}$,\n",
        "$D= \\{(x_1, x_2) \\in R^2 \\,|\\, x_1+3x_2 \\le 15, 3x_1+5x_2 \\le 18, 3x_1+2x_2\\le 20, x_2\\le 5, x_1 \\ge 0, x_2 \\ge 0  \\}$. записать функцию Лагранжа."
      ],
      "metadata": {
        "id": "oAL_1WNXAZMn"
      }
    },
    {
      "cell_type": "markdown",
      "source": [
        "#Часть 3 Теоретический минимум"
      ],
      "metadata": {
        "id": "hASVWpxmC9Am"
      }
    },
    {
      "cell_type": "markdown",
      "source": [
        "## Теоретический минимум по методам оптимизации"
      ],
      "metadata": {
        "id": "54YYfe8HDCIH"
      }
    },
    {
      "cell_type": "markdown",
      "source": [
        "1.   Постановка задачи математического программирования\n",
        "2.   Постановка задачи квадратичного программирования\n",
        "3.   Векторно-матричная форма записи задачи квадратичного программирования.\n",
        "4.   Запишите определение выпуклого множества.\n",
        "5.   Запишите определение выпуклой функции.\n",
        "6.   Функция Лагранжа задачи выпуклого программирования\n",
        "7.   Седловая точка функции Лагранжа  для задачи  выпуклого программирования\n",
        "8.   Софрмулируйте условие регулярности для множество допустимых решений задачи выпуклого программирования\n",
        "9.  Запишите формулировку теоремы Куна-Таккера\n",
        "10. Запишите функцию Лагранжа для задачи квадратичного программирования"
      ],
      "metadata": {
        "id": "cgpbgDdtDH7w"
      }
    }
  ]
}